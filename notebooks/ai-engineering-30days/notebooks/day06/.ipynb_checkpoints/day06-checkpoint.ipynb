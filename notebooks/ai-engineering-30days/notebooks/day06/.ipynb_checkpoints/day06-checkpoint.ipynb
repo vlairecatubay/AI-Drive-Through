{
  "cells": [
    {
      "cell_type": "markdown",
      "metadata": {},
      "source": [
        "# Day 6: NumPy Basics\n\n"
      ]
    },
    {
      "cell_type": "markdown",
      "metadata": {},
      "source": [
        "## Goal: Learn arrays, indexing, vector ops.\n\n**Deliverable:** Create and manipulate NumPy arrays."
      ]
    },
    {
      "cell_type": "code",
      "metadata": {},
      "source": [
        "import numpy as np\narr = np.arange(1,13)\narr = arr.reshape(3,4)\nprint(arr)\nprint('mean axis0', arr.mean(axis=0))\n# TODO: normalize arr rows"
      ],
      "outputs": [],
      "execution_count": null
    },
    {
      "cell_type": "markdown",
      "metadata": {},
      "source": [
        "### Exercises (TODO)\n- Compute column-wise mean and std.\n- Normalize each row to sum to 1."
      ]
    }
  ],
  "metadata": {
    "kernelspec": {
      "display_name": "Python 3",
      "language": "python",
      "name": "python3"
    }
  },
  "nbformat": 4,
  "nbformat_minor": 5
}