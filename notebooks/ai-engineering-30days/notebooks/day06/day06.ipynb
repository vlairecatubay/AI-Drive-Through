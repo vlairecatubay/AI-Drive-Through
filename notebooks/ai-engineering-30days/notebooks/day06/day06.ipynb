{
 "cells": [
  {
   "cell_type": "markdown",
   "id": "1f7d7104",
   "metadata": {},
   "source": [
    "# Day 6: NumPy Basics\n",
    "\n"
   ]
  },
  {
   "cell_type": "markdown",
   "id": "4abbfb36",
   "metadata": {},
   "source": [
    "## Goal: Learn arrays, indexing, vector ops.\n",
    "\n",
    "**Deliverable:** Create and manipulate NumPy arrays."
   ]
  },
  {
   "cell_type": "code",
   "execution_count": 4,
   "id": "9235035b",
   "metadata": {},
   "outputs": [
    {
     "name": "stdout",
     "output_type": "stream",
     "text": [
      "[[ 1  2  3]\n",
      " [ 4  5  6]\n",
      " [ 7  8  9]\n",
      " [10 11 12]]\n",
      "mean axis0 [5.5 6.5 7.5]\n"
     ]
    }
   ],
   "source": [
    "import numpy as np\n",
    "arr = np.arange(1,13)\n",
    "arr = arr.reshape(4,3)\n",
    "print(arr)\n",
    "print('mean axis0', arr.mean(axis=0))\n",
    "# TODO: normalize arr rows"
   ]
  },
  {
   "cell_type": "markdown",
   "id": "c13f2532",
   "metadata": {},
   "source": [
    "### Exercises (TODO)\n",
    "- Compute column-wise mean and std.\n",
    "- Normalize each row to sum to 1."
   ]
  }
 ],
 "metadata": {
  "kernelspec": {
   "display_name": "Python 3 (ipykernel)",
   "language": "python",
   "name": "python3"
  },
  "language_info": {
   "codemirror_mode": {
    "name": "ipython",
    "version": 3
   },
   "file_extension": ".py",
   "mimetype": "text/x-python",
   "name": "python",
   "nbconvert_exporter": "python",
   "pygments_lexer": "ipython3",
   "version": "3.11.2"
  }
 },
 "nbformat": 4,
 "nbformat_minor": 5
}
