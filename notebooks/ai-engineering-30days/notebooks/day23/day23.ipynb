{
  "cells": [
    {
      "cell_type": "markdown",
      "metadata": {},
      "source": [
        "# Day 23: FastAPI: Build a Model Serving Endpoint\n\n"
      ]
    },
    {
      "cell_type": "markdown",
      "metadata": {},
      "source": [
        "## Goal: Create a FastAPI app that serves model predictions.\n\n**Deliverable:** Simple `/predict` endpoint that returns JSON."
      ]
    },
    {
      "cell_type": "code",
      "metadata": {},
      "source": [
        "# Example FastAPI app (save as app.py when deploying)\nfrom fastapi import FastAPI\napp = FastAPI()\n\n@app.get('/health')\ndef health():\n    return {'status':'ok'}\n\n@app.post('/predict')\ndef predict(payload: dict):\n    # TODO: load model and run prediction\n    return {'prediction': 'dummy'}\n\nprint('FastAPI example shown - run with uvicorn app:app --reload')"
      ],
      "outputs": [],
      "execution_count": null
    },
    {
      "cell_type": "markdown",
      "metadata": {},
      "source": [
        "### Exercises (TODO)\n- Implement model loading and prediction logic."
      ]
    }
  ],
  "metadata": {
    "kernelspec": {
      "display_name": "Python 3",
      "language": "python",
      "name": "python3"
    }
  },
  "nbformat": 4,
  "nbformat_minor": 5
}