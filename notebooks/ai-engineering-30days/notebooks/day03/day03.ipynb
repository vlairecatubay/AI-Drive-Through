{
 "cells": [
  {
   "cell_type": "markdown",
   "id": "23a01e21",
   "metadata": {},
   "source": [
    "# Day 3: Functions & Modules\n",
    "\n"
   ]
  },
  {
   "cell_type": "markdown",
   "id": "38c98cd0",
   "metadata": {},
   "source": [
    "## Goal: Define functions, use modules.\n",
    "\n",
    "**Deliverable:** Function that converts Celsius to Fahrenheit."
   ]
  },
  {
   "cell_type": "code",
   "execution_count": 1,
   "id": "6ed2102b",
   "metadata": {},
   "outputs": [
    {
     "name": "stdout",
     "output_type": "stream",
     "text": [
      "0C -> 32.0 F\n",
      "sqrt(16)= 4.0\n"
     ]
    }
   ],
   "source": [
    "def c_to_f(c):\n",
    "    return c*9/5 + 32\n",
    "\n",
    "print('0C ->', c_to_f(0),'F')\n",
    "\n",
    "# Using a module\n",
    "import math\n",
    "print('sqrt(16)=', math.sqrt(16))"
   ]
  },
  {
   "cell_type": "code",
   "execution_count": 19,
   "id": "7b4c35f6-49d9-4e62-bdd9-2de696af6452",
   "metadata": {},
   "outputs": [
    {
     "name": "stdout",
     "output_type": "stream",
     "text": [
      "Normalize range up to 20\n",
      "0: [0.0]\n",
      "1: [0.05263157894736842]\n",
      "2: [0.10526315789473684]\n",
      "3: [0.15789473684210525]\n",
      "4: [0.21052631578947367]\n",
      "5: [0.2631578947368421]\n",
      "6: [0.3157894736842105]\n",
      "7: [0.3684210526315789]\n",
      "8: [0.42105263157894735]\n",
      "9: [0.47368421052631576]\n",
      "10: [0.5263157894736842]\n",
      "11: [0.5789473684210527]\n",
      "12: [0.631578947368421]\n",
      "13: [0.6842105263157895]\n",
      "14: [0.7368421052631579]\n",
      "15: [0.7894736842105263]\n",
      "16: [0.8421052631578947]\n",
      "17: [0.8947368421052632]\n",
      "18: [0.9473684210526315]\n",
      "19: [1.0]\n",
      "Normalize range up to 100\n",
      "0: [0.0]\n",
      "1: [0.03333333333333333]\n",
      "2: [0.06666666666666667]\n",
      "3: [0.1]\n",
      "4: [0.13333333333333333]\n",
      "5: [0.16666666666666666]\n",
      "6: [0.2]\n",
      "7: [0.23333333333333334]\n",
      "8: [0.26666666666666666]\n",
      "9: [0.3]\n",
      "10: [0.3333333333333333]\n",
      "11: [0.36666666666666664]\n",
      "12: [0.4]\n",
      "13: [0.43333333333333335]\n",
      "14: [0.4666666666666667]\n",
      "15: [0.5]\n",
      "16: [0.5333333333333333]\n",
      "17: [0.5666666666666667]\n",
      "18: [0.6]\n",
      "19: [0.6333333333333333]\n",
      "20: [0.6666666666666666]\n",
      "21: [0.7]\n",
      "22: [0.7333333333333333]\n",
      "23: [0.7666666666666667]\n",
      "24: [0.8]\n",
      "25: [0.8333333333333334]\n",
      "26: [0.8666666666666667]\n",
      "27: [0.9]\n",
      "28: [0.9333333333333333]\n",
      "29: [0.9666666666666667]\n",
      "30: [1.0]\n"
     ]
    }
   ],
   "source": [
    "#Valerie Answer Here\n",
    "import importlib\n",
    "import helpers\n",
    "importlib.reload(helpers)\n",
    "\n",
    "print(\"Normalize range up to 20\")\n",
    "for index,normalizeNumbers in enumerate(helpers.normalizeNumberRange(list(range(20)))):\n",
    "    print(f\"{index}: {normalizeNumbers}\")\n",
    "\n",
    "print(\"Normalize range up to 100\")\n",
    "for index,normalizeNumbers in enumerate(helpers.normalizeNumberRange(list(range(14,45)))):\n",
    "    print(f\"{index}: {normalizeNumbers}\")"
   ]
  },
  {
   "cell_type": "markdown",
   "id": "7fa7489c",
   "metadata": {},
   "source": [
    "### Exercises (TODO)\n",
    "- ✔ Create a reusable function to normalize a list of numbers.\n",
    "- ✔ Put helper functions in a module file and import it."
   ]
  }
 ],
 "metadata": {
  "kernelspec": {
   "display_name": "Python 3 (ipykernel)",
   "language": "python",
   "name": "python3"
  },
  "language_info": {
   "codemirror_mode": {
    "name": "ipython",
    "version": 3
   },
   "file_extension": ".py",
   "mimetype": "text/x-python",
   "name": "python",
   "nbconvert_exporter": "python",
   "pygments_lexer": "ipython3",
   "version": "3.11.2"
  }
 },
 "nbformat": 4,
 "nbformat_minor": 5
}
