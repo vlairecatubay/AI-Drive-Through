{
  "cells": [
    {
      "cell_type": "markdown",
      "metadata": {},
      "source": [
        "# Day 25: CI/CD & Model Versioning\n\n"
      ]
    },
    {
      "cell_type": "markdown",
      "metadata": {},
      "source": [
        "## Goal: Basics of CI for ML and model versioning.\n\n**Deliverable:** Save model with version metadata (timestamp)."
      ]
    },
    {
      "cell_type": "code",
      "metadata": {},
      "source": [
        "import time, json\nmeta = {'model':'demo','version':1,'ts':time.time()}\nopen('model_meta.json','w').write(json.dumps(meta))\nprint('Wrote model metadata')\n# TODO: create script that loads latest model by metadata"
      ],
      "outputs": [],
      "execution_count": null
    },
    {
      "cell_type": "markdown",
      "metadata": {},
      "source": [
        "### Exercises (TODO)\n- Add a git pre-commit hook to run basic linting (optional)."
      ]
    }
  ],
  "metadata": {
    "kernelspec": {
      "display_name": "Python 3",
      "language": "python",
      "name": "python3"
    }
  },
  "nbformat": 4,
  "nbformat_minor": 5
}