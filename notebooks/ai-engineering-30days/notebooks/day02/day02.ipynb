{
 "cells": [
  {
   "cell_type": "markdown",
   "id": "210854a6",
   "metadata": {},
   "source": [
    "# Day 2: Control Flow & Collections\n",
    "\n"
   ]
  },
  {
   "cell_type": "markdown",
   "id": "f6a69119",
   "metadata": {},
   "source": [
    "## Goal: if/else, loops, lists, dictionaries.\n",
    "\n",
    "**Deliverable:** Script that filters even numbers and summarizes a dict."
   ]
  },
  {
   "cell_type": "code",
   "execution_count": 3,
   "id": "82e27edf",
   "metadata": {},
   "outputs": [
    {
     "name": "stdout",
     "output_type": "stream",
     "text": [
      "Evens: [2, 4, 6, 8, 10, 12, 14, 16, 18, 20]\n",
      "name: project\n",
      "version: 1.0\n"
     ]
    }
   ],
   "source": [
    "#Directions\n",
    "nums = list(range(1,21))\n",
    "evens = [n for n in nums if n%2==0]\n",
    "print('Evens:', evens)\n",
    "info = {'name':'project','version':1.0}\n",
    "for k,v in info.items():\n",
    "    print(k,v)"
   ]
  },
  {
   "cell_type": "code",
   "execution_count": 23,
   "id": "a612c1f7-d2ec-4942-929c-769678714cf9",
   "metadata": {},
   "outputs": [
    {
     "name": "stdout",
     "output_type": "stream",
     "text": [
      "The numbers divisible by 3 in my list are [3, 6, 9, 12, 15, 18, 21, 24, 27]\n",
      "135\n"
     ]
    }
   ],
   "source": [
    "#Eric Answer Herne...\n",
    "nums = list(range(1,30))\n",
    "myList = []\n",
    "total = 0\n",
    "for i in nums:\n",
    "        if i % 3 == 0:\n",
    "            myList.append(i)\n",
    "            total = total + i\n",
    "\n",
    "result = f\"The numbers divisible by 3 in my list are {myList}\"       \n",
    "print (result)\n",
    "print(total)"
   ]
  },
  {
   "cell_type": "code",
   "execution_count": 27,
   "id": "2c2cf130-c7f3-4bd0-8d19-dd2a580e414c",
   "metadata": {},
   "outputs": [
    {
     "name": "stdout",
     "output_type": "stream",
     "text": [
      "135\n",
      "[3, 6, 9, 12, 15, 18, 21, 24, 27]\n"
     ]
    }
   ],
   "source": [
    "# Valerie Answer Here...\n",
    "nums = list(range(1,30))\n",
    "divisible_by_3 = [n for n in nums if n%3==0]\n",
    "total_sum = sum(divisible_by_3)\n",
    "\n",
    "print(total_sum)\n",
    "print(divisible_by_3)\n"
   ]
  },
  {
   "cell_type": "markdown",
   "id": "df290c84",
   "metadata": {},
   "source": [
    "### Exercises (TODO)\n",
    "- ✔ Write a loop to sum numbers divisible by 3.\n",
    "- ✔ Create a dict of API endpoints and print them."
   ]
  }
 ],
 "metadata": {
  "kernelspec": {
   "display_name": "Python 3 (ipykernel)",
   "language": "python",
   "name": "python3"
  },
  "language_info": {
   "codemirror_mode": {
    "name": "ipython",
    "version": 3
   },
   "file_extension": ".py",
   "mimetype": "text/x-python",
   "name": "python",
   "nbconvert_exporter": "python",
   "pygments_lexer": "ipython3",
   "version": "3.11.2"
  }
 },
 "nbformat": 4,
 "nbformat_minor": 5
}
