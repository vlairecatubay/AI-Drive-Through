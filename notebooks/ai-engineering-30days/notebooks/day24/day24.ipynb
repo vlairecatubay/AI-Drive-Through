{
  "cells": [
    {
      "cell_type": "markdown",
      "metadata": {},
      "source": [
        "# Day 24: Dockerizing Your API\n\n"
      ]
    },
    {
      "cell_type": "markdown",
      "metadata": {},
      "source": [
        "## Goal: Create Dockerfile and run your FastAPI app in a container.\n\n**Deliverable:** Dockerfile and local test instructions."
      ]
    },
    {
      "cell_type": "code",
      "metadata": {},
      "source": [
        "# Example Dockerfile content (not runnable in notebook)\nprint('FROM python:3.10-slim')\nprint('WORKDIR /app')\nprint('COPY . /app')\nprint('RUN pip install -r requirements.txt')\nprint('CMD [\"uvicorn\",\"app:app\",\"--host\",\"0.0.0.0\",\"--port\",\"8080\"]')"
      ],
      "outputs": [],
      "execution_count": null
    },
    {
      "cell_type": "markdown",
      "metadata": {},
      "source": [
        "### Exercises (TODO)\n- Build the docker image and run it locally."
      ]
    }
  ],
  "metadata": {
    "kernelspec": {
      "display_name": "Python 3",
      "language": "python",
      "name": "python3"
    }
  },
  "nbformat": 4,
  "nbformat_minor": 5
}