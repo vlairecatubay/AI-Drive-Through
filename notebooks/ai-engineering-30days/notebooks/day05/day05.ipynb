{
 "cells": [
  {
   "cell_type": "markdown",
   "id": "30021dfb",
   "metadata": {},
   "source": [
    "# Day 5: Virtual Environments & pip\n",
    "\n"
   ]
  },
  {
   "cell_type": "markdown",
   "id": "6236f65d",
   "metadata": {},
   "source": [
    "## Goal: Create a venv, install packages, manage requirements.\n",
    "\n",
    "**Deliverable:** Create requirements.txt and install a package."
   ]
  },
  {
   "cell_type": "code",
   "execution_count": null,
   "id": "c65e9cb4",
   "metadata": {},
   "outputs": [],
   "source": [
    "# In notebook, show how to list packages\n",
    "import pkgutil\n",
    "print('Some installed packages:', [m.name for m in pkgutil.iter_modules()][:10])\n",
    "\n",
    "# TODO: Run pip from terminal: pip install requests\n"
   ]
  },
  {
   "cell_type": "markdown",
   "id": "891bd903",
   "metadata": {},
   "source": [
    "### Exercises (TODO)\n",
    "- Create a requirements.txt with packages used so far.\n",
    "- Activate a venv and install packages (see README for Windows commands).\n",
    "\n",
    "### Step by Step How To\n",
    "1. Create a requirements.txt containing the py version and the py packages to use\n",
    "2. Navigate to the projet folder and run pip install -r requirements.txt in cmd\n",
    "3. After all the package were downloaded, run .venv\\Scripts\\activate\n",
    "4. If no error, you can run jupyter notebook on the root folder of the project"
   ]
  },
  {
   "cell_type": "code",
   "execution_count": null,
   "id": "d3db2136-b990-49ac-a13b-e604f955241f",
   "metadata": {},
   "outputs": [],
   "source": []
  }
 ],
 "metadata": {
  "kernelspec": {
   "display_name": "Python 3 (ipykernel)",
   "language": "python",
   "name": "python3"
  },
  "language_info": {
   "codemirror_mode": {
    "name": "ipython",
    "version": 3
   },
   "file_extension": ".py",
   "mimetype": "text/x-python",
   "name": "python",
   "nbconvert_exporter": "python",
   "pygments_lexer": "ipython3",
   "version": "3.11.2"
  }
 },
 "nbformat": 4,
 "nbformat_minor": 5
}
