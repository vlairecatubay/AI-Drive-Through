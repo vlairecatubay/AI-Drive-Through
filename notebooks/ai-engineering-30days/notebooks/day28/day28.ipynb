{
  "cells": [
    {
      "cell_type": "markdown",
      "metadata": {},
      "source": [
        "# Day 28: Deploy to Hugging Face Spaces\n\n"
      ]
    },
    {
      "cell_type": "markdown",
      "metadata": {},
      "source": [
        "## Goal: Prepare your app for Hugging Face Spaces (Gradio or FastAPI + Docker). \n\n**Deliverable:** README with deploy steps and requirements for Spaces."
      ]
    },
    {
      "cell_type": "code",
      "metadata": {},
      "source": [
        "print('Write app.py and requirements.txt; push to HF repo with HF CLI')\n# TODO: create a minimal Gradio demo as alternative to FastAPI"
      ],
      "outputs": [],
      "execution_count": null
    },
    {
      "cell_type": "markdown",
      "metadata": {},
      "source": [
        "### Exercises (TODO)\n- Follow HF Spaces docs and deploy an example app."
      ]
    }
  ],
  "metadata": {
    "kernelspec": {
      "display_name": "Python 3",
      "language": "python",
      "name": "python3"
    }
  },
  "nbformat": 4,
  "nbformat_minor": 5
}