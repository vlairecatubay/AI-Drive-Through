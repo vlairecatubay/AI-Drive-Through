{
  "cells": [
    {
      "cell_type": "markdown",
      "metadata": {},
      "source": [
        "# Day 22: Retrieval-Augmented Generation (RAG) & Vector DBs\n\n"
      ]
    },
    {
      "cell_type": "markdown",
      "metadata": {},
      "source": [
        "## Goal: Store embeddings and perform retrieval for RAG.\n\n**Deliverable:** Create embeddings for small docs and query nearest neighbor."
      ]
    },
    {
      "cell_type": "code",
      "metadata": {},
      "source": [
        "from transformers import AutoTokenizer, AutoModel\nimport numpy as np\n# TODO: create embeddings (or use dummy vectors) and run nearest neighbor search using FAISS\nprint('RAG exercise - create small vector DB')"
      ],
      "outputs": [],
      "execution_count": null
    },
    {
      "cell_type": "markdown",
      "metadata": {},
      "source": [
        "### Exercises (TODO)\n- Index 5 short documents and retrieve the closest to a query."
      ]
    }
  ],
  "metadata": {
    "kernelspec": {
      "display_name": "Python 3",
      "language": "python",
      "name": "python3"
    }
  },
  "nbformat": 4,
  "nbformat_minor": 5
}