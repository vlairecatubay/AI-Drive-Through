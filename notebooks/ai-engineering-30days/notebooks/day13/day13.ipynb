{
  "cells": [
    {
      "cell_type": "markdown",
      "metadata": {},
      "source": [
        "# Day 13: Feature Engineering\n\n"
      ]
    },
    {
      "cell_type": "markdown",
      "metadata": {},
      "source": [
        "## Goal: Create features and encode categoricals.\n\n**Deliverable:** One-hot encode species and add interaction term."
      ]
    },
    {
      "cell_type": "code",
      "metadata": {},
      "source": [
        "import pandas as pd\n\ndf = pd.read_csv('../../datasets/iris.csv')\ndf = pd.get_dummies(df, columns=['species'])\ndf['sepal_area'] = df['sepal_length'] * df['sepal_width']\nprint(df.head())\n# TODO: scale features using sklearn StandardScaler"
      ],
      "outputs": [],
      "execution_count": null
    },
    {
      "cell_type": "markdown",
      "metadata": {},
      "source": [
        "### Exercises (TODO)\n- Create polynomial features and compare model performance."
      ]
    }
  ],
  "metadata": {
    "kernelspec": {
      "display_name": "Python 3",
      "language": "python",
      "name": "python3"
    }
  },
  "nbformat": 4,
  "nbformat_minor": 5
}