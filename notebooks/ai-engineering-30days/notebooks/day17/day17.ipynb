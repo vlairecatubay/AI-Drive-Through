{
  "cells": [
    {
      "cell_type": "markdown",
      "metadata": {},
      "source": [
        "# Day 17: MNIST: Data Loading & Training\n\n"
      ]
    },
    {
      "cell_type": "markdown",
      "metadata": {},
      "source": [
        "## Goal: Load MNIST using torchvision and train a simple CNN.\n\n**Deliverable:** Simple training loop that reaches >90% on small subset."
      ]
    },
    {
      "cell_type": "code",
      "metadata": {},
      "source": [
        "import torchvision\nfrom torchvision import transforms, datasets\nfrom torch.utils.data import DataLoader\n\ntransform = transforms.Compose([transforms.ToTensor()])\ntrain_ds = datasets.MNIST(root='../../datasets/mnist', train=True, download=True, transform=transform)\ntrain_loader = DataLoader(train_ds, batch_size=64, shuffle=True)\nprint('MNIST loaded, size:', len(train_ds))\n# TODO: define CNN and train for 1-2 epochs (keep small for CPU)"
      ],
      "outputs": [],
      "execution_count": null
    },
    {
      "cell_type": "markdown",
      "metadata": {},
      "source": [
        "### Exercises (TODO)\n- Visualize a batch of MNIST images.\n- Report train loss per epoch."
      ]
    }
  ],
  "metadata": {
    "kernelspec": {
      "display_name": "Python 3",
      "language": "python",
      "name": "python3"
    }
  },
  "nbformat": 4,
  "nbformat_minor": 5
}