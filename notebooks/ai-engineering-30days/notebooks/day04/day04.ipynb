{
 "cells": [
  {
   "cell_type": "markdown",
   "id": "f2e2a67c",
   "metadata": {},
   "source": [
    "# Day 4: Files, JSON & APIs\n",
    "\n"
   ]
  },
  {
   "cell_type": "markdown",
   "id": "7faac8c6",
   "metadata": {},
   "source": [
    "## Goal: Read/write files and simple API call.\n",
    "\n",
    "**Deliverable:** Save API JSON to a file."
   ]
  },
  {
   "cell_type": "code",
   "execution_count": 1,
   "id": "a7b35643",
   "metadata": {},
   "outputs": [
    {
     "name": "stdout",
     "output_type": "stream",
     "text": [
      "OpenAI's models are changing how developers build software.\n",
      "Machine learning pipelines require good data and monitoring.\n",
      "This small text corpus is for tokenization and basic NLP exercises.\n",
      "\n"
     ]
    }
   ],
   "source": [
    "import json, urllib.request\n",
    "# Example: read local text\n",
    "with open('../../datasets/text_sample.txt','r') as f:\n",
    "    print(f.read())\n",
    "# TODO: use requests to call a public API (e.g., https://api.publicapis.org/entries) and save JSON\n"
   ]
  },
  {
   "cell_type": "code",
   "execution_count": 15,
   "id": "ceb72666-9d06-4bac-be85-292023373107",
   "metadata": {},
   "outputs": [
    {
     "name": "stdout",
     "output_type": "stream",
     "text": [
      "<class 'list'>\n",
      "User ID: 1, Title: sunt aut facere repellat provident occaecati excepturi optio reprehenderit\n",
      "User ID: 1, Title: qui est esse\n",
      "User ID: 1, Title: ea molestias quasi exercitationem repellat qui ipsa sit aut\n",
      "User ID: 1, Title: eum et est occaecati\n",
      "User ID: 1, Title: nesciunt quas odio\n",
      "User ID: 1, Title: dolorem eum magni eos aperiam quia\n",
      "User ID: 1, Title: magnam facilis autem\n",
      "User ID: 1, Title: dolorem dolore est ipsam\n",
      "User ID: 1, Title: nesciunt iure omnis dolorem tempora et accusantium\n",
      "User ID: 1, Title: optio molestias id quia eum\n",
      "User ID: 2, Title: et ea vero quia laudantium autem\n",
      "User ID: 2, Title: in quibusdam tempore odit est dolorem\n",
      "User ID: 2, Title: dolorum ut in voluptas mollitia et saepe quo animi\n",
      "User ID: 2, Title: voluptatem eligendi optio\n",
      "User ID: 2, Title: eveniet quod temporibus\n",
      "User ID: 2, Title: sint suscipit perspiciatis velit dolorum rerum ipsa laboriosam odio\n",
      "User ID: 2, Title: fugit voluptas sed molestias voluptatem provident\n",
      "User ID: 2, Title: voluptate et itaque vero tempora molestiae\n",
      "User ID: 2, Title: adipisci placeat illum aut reiciendis qui\n",
      "User ID: 2, Title: doloribus ad provident suscipit at\n",
      "User ID: 3, Title: asperiores ea ipsam voluptatibus modi minima quia sint\n",
      "User ID: 3, Title: dolor sint quo a velit explicabo quia nam\n",
      "User ID: 3, Title: maxime id vitae nihil numquam\n",
      "User ID: 3, Title: autem hic labore sunt dolores incidunt\n",
      "User ID: 3, Title: rem alias distinctio quo quis\n",
      "User ID: 3, Title: est et quae odit qui non\n",
      "User ID: 3, Title: quasi id et eos tenetur aut quo autem\n",
      "User ID: 3, Title: delectus ullam et corporis nulla voluptas sequi\n",
      "User ID: 3, Title: iusto eius quod necessitatibus culpa ea\n",
      "User ID: 3, Title: a quo magni similique perferendis\n",
      "User ID: 4, Title: ullam ut quidem id aut vel consequuntur\n",
      "User ID: 4, Title: doloremque illum aliquid sunt\n",
      "User ID: 4, Title: qui explicabo molestiae dolorem\n",
      "User ID: 4, Title: magnam ut rerum iure\n",
      "User ID: 4, Title: id nihil consequatur molestias animi provident\n",
      "User ID: 4, Title: fuga nam accusamus voluptas reiciendis itaque\n",
      "User ID: 4, Title: provident vel ut sit ratione est\n",
      "User ID: 4, Title: explicabo et eos deleniti nostrum ab id repellendus\n",
      "User ID: 4, Title: eos dolorem iste accusantium est eaque quam\n",
      "User ID: 4, Title: enim quo cumque\n",
      "User ID: 5, Title: non est facere\n",
      "User ID: 5, Title: commodi ullam sint et excepturi error explicabo praesentium voluptas\n",
      "User ID: 5, Title: eligendi iste nostrum consequuntur adipisci praesentium sit beatae perferendis\n",
      "User ID: 5, Title: optio dolor molestias sit\n",
      "User ID: 5, Title: ut numquam possimus omnis eius suscipit laudantium iure\n",
      "User ID: 5, Title: aut quo modi neque nostrum ducimus\n",
      "User ID: 5, Title: quibusdam cumque rem aut deserunt\n",
      "User ID: 5, Title: ut voluptatem illum ea doloribus itaque eos\n",
      "User ID: 5, Title: laborum non sunt aut ut assumenda perspiciatis voluptas\n",
      "User ID: 5, Title: repellendus qui recusandae incidunt voluptates tenetur qui omnis exercitationem\n",
      "User ID: 6, Title: soluta aliquam aperiam consequatur illo quis voluptas\n",
      "User ID: 6, Title: qui enim et consequuntur quia animi quis voluptate quibusdam\n",
      "User ID: 6, Title: ut quo aut ducimus alias\n",
      "User ID: 6, Title: sit asperiores ipsam eveniet odio non quia\n",
      "User ID: 6, Title: sit vel voluptatem et non libero\n",
      "User ID: 6, Title: qui et at rerum necessitatibus\n",
      "User ID: 6, Title: sed ab est est\n",
      "User ID: 6, Title: voluptatum itaque dolores nisi et quasi\n",
      "User ID: 6, Title: qui commodi dolor at maiores et quis id accusantium\n",
      "User ID: 6, Title: consequatur placeat omnis quisquam quia reprehenderit fugit veritatis facere\n",
      "User ID: 7, Title: voluptatem doloribus consectetur est ut ducimus\n",
      "User ID: 7, Title: beatae enim quia vel\n",
      "User ID: 7, Title: voluptas blanditiis repellendus animi ducimus error sapiente et suscipit\n",
      "User ID: 7, Title: et fugit quas eum in in aperiam quod\n",
      "User ID: 7, Title: consequatur id enim sunt et et\n",
      "User ID: 7, Title: repudiandae ea animi iusto\n",
      "User ID: 7, Title: aliquid eos sed fuga est maxime repellendus\n",
      "User ID: 7, Title: odio quis facere architecto reiciendis optio\n",
      "User ID: 7, Title: fugiat quod pariatur odit minima\n",
      "User ID: 7, Title: voluptatem laborum magni\n",
      "User ID: 8, Title: et iusto veniam et illum aut fuga\n",
      "User ID: 8, Title: sint hic doloribus consequatur eos non id\n",
      "User ID: 8, Title: consequuntur deleniti eos quia temporibus ab aliquid at\n",
      "User ID: 8, Title: enim unde ratione doloribus quas enim ut sit sapiente\n",
      "User ID: 8, Title: dignissimos eum dolor ut enim et delectus in\n",
      "User ID: 8, Title: doloremque officiis ad et non perferendis\n",
      "User ID: 8, Title: necessitatibus quasi exercitationem odio\n",
      "User ID: 8, Title: quam voluptatibus rerum veritatis\n",
      "User ID: 8, Title: pariatur consequatur quia magnam autem omnis non amet\n",
      "User ID: 8, Title: labore in ex et explicabo corporis aut quas\n",
      "User ID: 9, Title: tempora rem veritatis voluptas quo dolores vero\n",
      "User ID: 9, Title: laudantium voluptate suscipit sunt enim enim\n",
      "User ID: 9, Title: odit et voluptates doloribus alias odio et\n",
      "User ID: 9, Title: optio ipsam molestias necessitatibus occaecati facilis veritatis dolores aut\n",
      "User ID: 9, Title: dolore veritatis porro provident adipisci blanditiis et sunt\n",
      "User ID: 9, Title: placeat quia et porro iste\n",
      "User ID: 9, Title: nostrum quis quasi placeat\n",
      "User ID: 9, Title: sapiente omnis fugit eos\n",
      "User ID: 9, Title: sint soluta et vel magnam aut ut sed qui\n",
      "User ID: 9, Title: ad iusto omnis odit dolor voluptatibus\n",
      "User ID: 10, Title: aut amet sed\n",
      "User ID: 10, Title: ratione ex tenetur perferendis\n",
      "User ID: 10, Title: beatae soluta recusandae\n",
      "User ID: 10, Title: qui qui voluptates illo iste minima\n",
      "User ID: 10, Title: id minus libero illum nam ad officiis\n",
      "User ID: 10, Title: quaerat velit veniam amet cupiditate aut numquam ut sequi\n",
      "User ID: 10, Title: quas fugiat ut perspiciatis vero provident\n",
      "User ID: 10, Title: laboriosam dolor voluptates\n",
      "User ID: 10, Title: temporibus sit alias delectus eligendi possimus magni\n",
      "User ID: 10, Title: at nam consequatur ea labore ea harum\n"
     ]
    }
   ],
   "source": [
    "#Valerie's answer here...\n",
    "import importlib\n",
    "import json\n",
    "import api_helpers\n",
    "importlib.reload(api_helpers)\n",
    "\n",
    "api_response = api_helpers.get(\"https://jsonplaceholder.typicode.com/posts\")\n",
    "with open(\"api-response.json\", \"w\") as file:\n",
    "    json.dump(api_response, file, indent=4)\n",
    "\n",
    "print(type(api_response))\n",
    "\n",
    "for item in api_response:\n",
    "    print(f\"User ID: {item['userId']}, Title: {item['title']}\")"
   ]
  },
  {
   "cell_type": "markdown",
   "id": "95f7a0f2",
   "metadata": {},
   "source": [
    "### Exercises (TODO)\n",
    "- ✔ Call a public API and save the JSON response locally.\n",
    "- ✔ Load it and print selected fields."
   ]
  }
 ],
 "metadata": {
  "kernelspec": {
   "display_name": "Python 3 (ipykernel)",
   "language": "python",
   "name": "python3"
  },
  "language_info": {
   "codemirror_mode": {
    "name": "ipython",
    "version": 3
   },
   "file_extension": ".py",
   "mimetype": "text/x-python",
   "name": "python",
   "nbconvert_exporter": "python",
   "pygments_lexer": "ipython3",
   "version": "3.11.2"
  }
 },
 "nbformat": 4,
 "nbformat_minor": 5
}
