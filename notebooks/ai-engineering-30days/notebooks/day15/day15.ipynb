{
  "cells": [
    {
      "cell_type": "markdown",
      "metadata": {},
      "source": [
        "# Day 15: Intro to PyTorch & Tensors\n\n"
      ]
    },
    {
      "cell_type": "markdown",
      "metadata": {},
      "source": [
        "## Goal: Understand tensors and basic ops in PyTorch.\n\n**Deliverable:** Create tensor, do matmul and basic ops."
      ]
    },
    {
      "cell_type": "code",
      "metadata": {},
      "source": [
        "import torch\nx = torch.arange(12).reshape(3,4).float()\nprint(x)\nprint('mean', x.mean())\n# TODO: GPU check\nprint('cuda available?', torch.cuda.is_available())"
      ],
      "outputs": [],
      "execution_count": null
    },
    {
      "cell_type": "markdown",
      "metadata": {},
      "source": [
        "### Exercises (TODO)\n- Reshape tensors and compute reductions."
      ]
    }
  ],
  "metadata": {
    "kernelspec": {
      "display_name": "Python 3",
      "language": "python",
      "name": "python3"
    }
  },
  "nbformat": 4,
  "nbformat_minor": 5
}