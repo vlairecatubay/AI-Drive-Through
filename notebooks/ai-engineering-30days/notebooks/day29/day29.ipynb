{
  "cells": [
    {
      "cell_type": "markdown",
      "metadata": {},
      "source": [
        "# Day 29: Deploy to Render (or alternative)\n\n"
      ]
    },
    {
      "cell_type": "markdown",
      "metadata": {},
      "source": [
        "## Goal: Deploy Dockerized API to Render.com or similar.\n\n**Deliverable:** Instructions and app tested on Render."
      ]
    },
    {
      "cell_type": "code",
      "metadata": {},
      "source": [
        "print('Render deployment steps: push image to Docker Hub or connect repo')\n# TODO: create render.yaml or follow Render docs"
      ],
      "outputs": [],
      "execution_count": null
    },
    {
      "cell_type": "markdown",
      "metadata": {},
      "source": [
        "### Exercises (TODO)\n- Deploy and test your live endpoint."
      ]
    }
  ],
  "metadata": {
    "kernelspec": {
      "display_name": "Python 3",
      "language": "python",
      "name": "python3"
    }
  },
  "nbformat": 4,
  "nbformat_minor": 5
}