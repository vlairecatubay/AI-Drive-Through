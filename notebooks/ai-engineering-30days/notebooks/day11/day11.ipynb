{
  "cells": [
    {
      "cell_type": "markdown",
      "metadata": {},
      "source": [
        "# Day 11: Classification: Trees & Ensembles\n\n"
      ]
    },
    {
      "cell_type": "markdown",
      "metadata": {},
      "source": [
        "## Goal: Decision Trees and Random Forests.\n\n**Deliverable:** Train RandomForest on iris data."
      ]
    },
    {
      "cell_type": "code",
      "metadata": {},
      "source": [
        "from sklearn.ensemble import RandomForestClassifier\nimport pandas as pd\n\ndf = pd.read_csv('../../datasets/iris.csv')\nX = df[['sepal_length','sepal_width','petal_length','petal_width']]\ny = df['species']\nclf = RandomForestClassifier(n_estimators=50, random_state=42).fit(X,y)\nprint('Acc', clf.score(X,y))\n# TODO: train/test split for realistic eval"
      ],
      "outputs": [],
      "execution_count": null
    },
    {
      "cell_type": "markdown",
      "metadata": {},
      "source": [
        "### Exercises (TODO)\n- Feature importances: list top features.\n- Try different tree depths."
      ]
    }
  ],
  "metadata": {
    "kernelspec": {
      "display_name": "Python 3",
      "language": "python",
      "name": "python3"
    }
  },
  "nbformat": 4,
  "nbformat_minor": 5
}