{
  "cells": [
    {
      "cell_type": "markdown",
      "metadata": {},
      "source": [
        "# Day 7: Pandas Basics\n\n"
      ]
    },
    {
      "cell_type": "markdown",
      "metadata": {},
      "source": [
        "## Goal: DataFrames, loading CSV, basic cleaning.\n\n**Deliverable:** Load iris.csv and show summary."
      ]
    },
    {
      "cell_type": "code",
      "metadata": {},
      "source": [
        "import pandas as pd\ndf = pd.read_csv('../../datasets/iris.csv')\nprint(df.head())\nprint(df.describe())\n# TODO: filter species == 'setosa' and count rows"
      ],
      "outputs": [],
      "execution_count": null
    },
    {
      "cell_type": "markdown",
      "metadata": {},
      "source": [
        "### Exercises (TODO)\n- Load titanic.csv and show survivors count by sex.\n- Save a filtered CSV to disk."
      ]
    }
  ],
  "metadata": {
    "kernelspec": {
      "display_name": "Python 3",
      "language": "python",
      "name": "python3"
    }
  },
  "nbformat": 4,
  "nbformat_minor": 5
}