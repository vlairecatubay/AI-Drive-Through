{
  "cells": [
    {
      "cell_type": "markdown",
      "metadata": {},
      "source": [
        "# Day 20: Transformers & Hugging Face (inference)\n\n"
      ]
    },
    {
      "cell_type": "markdown",
      "metadata": {},
      "source": [
        "## Goal: Use a small HF transformer for inference.\n\n**Deliverable:** Run a summarization or sentiment pipeline."
      ]
    },
    {
      "cell_type": "code",
      "metadata": {},
      "source": [
        "from transformers import pipeline\nsummarizer = pipeline('summarization', model='sshleifer/distilbart-cnn-12-6')\nprint('Model loaded (inference only)')\n# TODO: run summarizer on a paragraph (keep short for API/local inference)"
      ],
      "outputs": [],
      "execution_count": null
    },
    {
      "cell_type": "markdown",
      "metadata": {},
      "source": [
        "### Exercises (TODO)\n- Compare outputs of two different models."
      ]
    }
  ],
  "metadata": {
    "kernelspec": {
      "display_name": "Python 3",
      "language": "python",
      "name": "python3"
    }
  },
  "nbformat": 4,
  "nbformat_minor": 5
}