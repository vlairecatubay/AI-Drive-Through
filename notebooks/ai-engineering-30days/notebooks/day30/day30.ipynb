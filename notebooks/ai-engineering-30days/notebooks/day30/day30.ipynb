{
  "cells": [
    {
      "cell_type": "markdown",
      "metadata": {},
      "source": [
        "# Day 30: Capstone: AI API + Cloud Deploy\n\n"
      ]
    },
    {
      "cell_type": "markdown",
      "metadata": {},
      "source": [
        "## Goal: Finish capstone: live deployed AI API accessible via HTTP.\n\n**Deliverable:** Public URL, README with usage, and GitHub repo link."
      ]
    },
    {
      "cell_type": "markdown",
      "metadata": {},
      "source": [
        "### Capstone checklist:\n- Model trained & saved\n- FastAPI app with /predict and /health\n- Dockerfile and requirements\n- Deployed to Hugging Face Spaces (or Render)\n- README and demo curl commands\n\nGood luck! Celebrate \ud83c\udf89"
      ]
    }
  ],
  "metadata": {
    "kernelspec": {
      "display_name": "Python 3",
      "language": "python",
      "name": "python3"
    }
  },
  "nbformat": 4,
  "nbformat_minor": 5
}