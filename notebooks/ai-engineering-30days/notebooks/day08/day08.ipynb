{
  "cells": [
    {
      "cell_type": "markdown",
      "metadata": {},
      "source": [
        "# Day 8: Data Cleaning & Visualization\n\n"
      ]
    },
    {
      "cell_type": "markdown",
      "metadata": {},
      "source": [
        "## Goal: Handle missing values and plot data.\n\n**Deliverable:** Clean titanic.csv and plot age distribution."
      ]
    },
    {
      "cell_type": "code",
      "metadata": {},
      "source": [
        "import pandas as pd\nimport matplotlib.pyplot as plt\n\ndf = pd.read_csv('../../datasets/titanic.csv')\nprint(df.info())\n# simple plot\nif 'Age' in df.columns:\n    df['Age'] = pd.to_numeric(df['Age'], errors='coerce')\n    df['Age'].hist()\n    plt.title('Age distribution')\n    plt.show()\n# TODO: drop NAs or fill them"
      ],
      "outputs": [],
      "execution_count": null
    },
    {
      "cell_type": "markdown",
      "metadata": {},
      "source": [
        "### Exercises (TODO)\n- Impute missing ages with median.\n- Create a bar chart of survivors by Pclass."
      ]
    }
  ],
  "metadata": {
    "kernelspec": {
      "display_name": "Python 3",
      "language": "python",
      "name": "python3"
    }
  },
  "nbformat": 4,
  "nbformat_minor": 5
}