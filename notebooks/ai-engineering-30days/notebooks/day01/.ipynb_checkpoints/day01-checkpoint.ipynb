{
 "cells": [
  {
   "cell_type": "markdown",
   "id": "a4e1e42a",
   "metadata": {},
   "source": [
    "# Day 1: Python Basics\n",
    "\n"
   ]
  },
  {
   "cell_type": "markdown",
   "id": "f0284e9d",
   "metadata": {},
   "source": [
    "## Goal: Learn basic Python syntax, variables, and printing.\n",
    "\n",
    "**Deliverable:** A script that prints \"Hello AI\" and computes a simple expression."
   ]
  },
  {
   "cell_type": "code",
   "execution_count": null,
   "id": "56d17074-2c69-4b73-b79d-9950cee19c36",
   "metadata": {},
   "outputs": [],
   "source": [
    "# Example: Hello AI\n",
    "name = 'Vlaire'\n",
    "print('Hello, it\\'s nice to meet you', name, '!')\n",
    "print('The below uses f-string for printing')\n",
    "print(f\"Hello! It's nice to meet you {name}!\")\n",
    "# Simple calculation\n",
    "i_width = 2;\n",
    "i_height = 5;\n",
    "i_area = i_width * i_height;\n",
    "print('Given that the width =', i_width, 'and height =', i_height, ', the calculated total area is:', i_area, '.')\n",
    "#This is much better in terms of concatenating string for printing, its called f-strings\n",
    "print('The below uses f-string for printing')\n",
    "print(f\"Given that the width = {i_width} and height={i_height}, the calculated total area is: {i_area}.\")"
   ]
  },
  {
   "cell_type": "markdown",
   "id": "1c30e362",
   "metadata": {},
   "source": [
    "### Exercises (TODO)\n",
    "- ✔ Print a greeting with your name.\n",
    "- ✔ Create variables for width and height and print area.\n",
    "- ✔ (Stretch) Format a string using f-strings."
   ]
  }
 ],
 "metadata": {
  "kernelspec": {
   "display_name": "Python 3 (ipykernel)",
   "language": "python",
   "name": "python3"
  },
  "language_info": {
   "codemirror_mode": {
    "name": "ipython",
    "version": 3
   },
   "file_extension": ".py",
   "mimetype": "text/x-python",
   "name": "python",
   "nbconvert_exporter": "python",
   "pygments_lexer": "ipython3",
   "version": "3.11.2"
  }
 },
 "nbformat": 4,
 "nbformat_minor": 5
}
