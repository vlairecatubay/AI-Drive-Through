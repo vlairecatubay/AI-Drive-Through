{
 "cells": [
  {
   "cell_type": "markdown",
   "id": "a4e1e42a",
   "metadata": {},
   "source": [
    "# Day 1: Python Basics\n",
    "\n"
   ]
  },
  {
   "cell_type": "markdown",
   "id": "f0284e9d",
   "metadata": {},
   "source": [
    "## Goal: Learn basic Python syntax, variables, and printing.\n",
    "\n",
    "**Deliverable:** A script that prints \"Hello AI\" and computes a simple expression."
   ]
  },
  {
   "cell_type": "code",
   "execution_count": 18,
   "id": "56d17074-2c69-4b73-b79d-9950cee19c36",
   "metadata": {},
   "outputs": [],
   "source": [
    "#Valerie's Answer Here...\n",
    "name = 'Vlaire'\n",
    "print('Hello, it\\'s nice to meet you', name, '!')\n",
    "print('The below uses f-string for printing')\n",
    "print(f\"Hello! It's nice to meet you {name}!\")\n",
    "# Simple calculation\n",
    "i_width = 2;\n",
    "i_height = 5;\n",
    "i_area = i_width * i_height;\n",
    "print('Given that the width =', i_width, 'and height =', i_height, ', the calculated total area is:', i_area, '.')\n",
    "#This is much better in terms of concatenating string for printing, its called f-strings\n",
    "print('The below uses f-string for printing')\n",
    "print(f\"Given that the width = {i_width} and height={i_height}, the calculated total area is: {i_area}.\")"
   ]
  },
  {
   "cell_type": "code",
   "execution_count": 17,
   "id": "68857fb1-58ce-4df9-91c2-99cab9544e1b",
   "metadata": {},
   "outputs": [
    {
     "name": "stdout",
     "output_type": "stream",
     "text": [
      "Hello, it's nice to meet you Eric Tobias pogi!\n",
      "Since we have width of 50 and we have height of 50 area is 2500\n"
     ]
    }
   ],
   "source": [
    "# Eric's Answer Here...\n",
    "name = 'Eric Tobias'\n",
    "width = 50\n",
    "height = 50\n",
    "area = width * height\n",
    "print('Hello, it\\'s nice to meet you', name, 'pogi!')\n",
    "# Simple calculation\n",
    "message = f\"Since we have width of {width} and we have height of {height} area is {area}\"\n",
    "print(message)\n"
   ]
  },
  {
   "cell_type": "markdown",
   "id": "1c30e362",
   "metadata": {},
   "source": [
    "### Exercises (TODO)\n",
    "- ✔ Print a greeting with your name.\n",
    "- ✔ Create variables for width and height and print area.\n",
    "- ✔ (Stretch) Format a string using f-strings."
   ]
  }
 ],
 "metadata": {
  "kernelspec": {
   "display_name": "Python 3 (ipykernel)",
   "language": "python",
   "name": "python3"
  },
  "language_info": {
   "codemirror_mode": {
    "name": "ipython",
    "version": 3
   },
   "file_extension": ".py",
   "mimetype": "text/x-python",
   "name": "python",
   "nbconvert_exporter": "python",
   "pygments_lexer": "ipython3",
   "version": "3.11.2"
  }
 },
 "nbformat": 4,
 "nbformat_minor": 5
}
