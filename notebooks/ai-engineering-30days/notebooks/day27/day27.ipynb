{
  "cells": [
    {
      "cell_type": "markdown",
      "metadata": {},
      "source": [
        "# Day 27: Monitoring & Logging for ML APIs\n\n"
      ]
    },
    {
      "cell_type": "markdown",
      "metadata": {},
      "source": [
        "## Goal: Add logging and basic telemetry to your API.\n\n**Deliverable:** Log requests and response times to a file."
      ]
    },
    {
      "cell_type": "code",
      "metadata": {},
      "source": [
        "import time, logging\nlogging.basicConfig(filename='api.log', level=logging.INFO)\nstart=time.time()\n# simulate request\ntime.sleep(0.1)\nlogging.info('request processed in %s', time.time()-start)\nprint('Logged an example')"
      ],
      "outputs": [],
      "execution_count": null
    },
    {
      "cell_type": "markdown",
      "metadata": {},
      "source": [
        "### Exercises (TODO)\n- Add request id tracing and error logging."
      ]
    }
  ],
  "metadata": {
    "kernelspec": {
      "display_name": "Python 3",
      "language": "python",
      "name": "python3"
    }
  },
  "nbformat": 4,
  "nbformat_minor": 5
}