{
  "cells": [
    {
      "cell_type": "markdown",
      "metadata": {},
      "source": [
        "# Day 9: Intro to Machine Learning\n\n"
      ]
    },
    {
      "cell_type": "markdown",
      "metadata": {},
      "source": [
        "## Goal: Understand supervised learning and pipeline.\n\n**Deliverable:** Train a simple sklearn model."
      ]
    },
    {
      "cell_type": "code",
      "metadata": {},
      "source": [
        "from sklearn.model_selection import train_test_split\nfrom sklearn.linear_model import LogisticRegression\nimport pandas as pd\n\ndf = pd.read_csv('../../datasets/iris.csv')\nX = df[['sepal_length','sepal_width','petal_length','petal_width']]\ny = (df['species']=='setosa').astype(int)\nX_train,X_test,y_train,y_test = train_test_split(X,y,test_size=0.3,random_state=42)\nclf = LogisticRegression().fit(X_train,y_train)\nprint('Accuracy', clf.score(X_test,y_test))\n\n# TODO: try different target (versicolor)"
      ],
      "outputs": [],
      "execution_count": null
    },
    {
      "cell_type": "markdown",
      "metadata": {},
      "source": [
        "### Exercises (TODO)\n- Train logistic regression and report accuracy.\n- Try k-fold cross-validation."
      ]
    }
  ],
  "metadata": {
    "kernelspec": {
      "display_name": "Python 3",
      "language": "python",
      "name": "python3"
    }
  },
  "nbformat": 4,
  "nbformat_minor": 5
}