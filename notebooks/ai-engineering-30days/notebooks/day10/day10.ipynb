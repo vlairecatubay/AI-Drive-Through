{
  "cells": [
    {
      "cell_type": "markdown",
      "metadata": {},
      "source": [
        "# Day 10: Regression with scikit-learn\n\n"
      ]
    },
    {
      "cell_type": "markdown",
      "metadata": {},
      "source": [
        "## Goal: Linear Regression and metrics.\n\n**Deliverable:** Fit a regression model on synthetic data."
      ]
    },
    {
      "cell_type": "code",
      "metadata": {},
      "source": [
        "from sklearn.linear_model import LinearRegression\nfrom sklearn.metrics import mean_squared_error\nimport numpy as np\n\n# synthetic data\nX = np.arange(10).reshape(-1,1)\ny = 2*X.squeeze() + 1 + np.random.randn(10)\nmodel = LinearRegression().fit(X,y)\npred = model.predict(X)\nprint('MSE', mean_squared_error(y,pred))\n# TODO: split train/test"
      ],
      "outputs": [],
      "execution_count": null
    },
    {
      "cell_type": "markdown",
      "metadata": {},
      "source": [
        "### Exercises (TODO)\n- Evaluate RMSE on test split.\n- Plot predictions vs true values."
      ]
    }
  ],
  "metadata": {
    "kernelspec": {
      "display_name": "Python 3",
      "language": "python",
      "name": "python3"
    }
  },
  "nbformat": 4,
  "nbformat_minor": 5
}