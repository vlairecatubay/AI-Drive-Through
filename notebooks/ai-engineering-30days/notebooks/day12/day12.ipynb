{
  "cells": [
    {
      "cell_type": "markdown",
      "metadata": {},
      "source": [
        "# Day 12: Model Evaluation & Validation\n\n"
      ]
    },
    {
      "cell_type": "markdown",
      "metadata": {},
      "source": [
        "## Goal: Confusion matrix, precision, recall, F1.\n\n**Deliverable:** Compute classification report."
      ]
    },
    {
      "cell_type": "code",
      "metadata": {},
      "source": [
        "from sklearn.metrics import classification_report\nimport pandas as pd\nfrom sklearn.model_selection import train_test_split\nfrom sklearn.ensemble import RandomForestClassifier\n\ndf = pd.read_csv('../../datasets/iris.csv')\nX = df[['sepal_length','sepal_width','petal_length','petal_width']]\ny = df['species']\nXtr,Xte,ytr,yte = train_test_split(X,y,test_size=0.3)\nclf = RandomForestClassifier(n_estimators=30).fit(Xtr,ytr)\nprint(classification_report(yte, clf.predict(Xte)))\n"
      ],
      "outputs": [],
      "execution_count": null
    },
    {
      "cell_type": "markdown",
      "metadata": {},
      "source": [
        "### Exercises (TODO)\n- Plot confusion matrix.\n- Compute AUC for a binary target."
      ]
    }
  ],
  "metadata": {
    "kernelspec": {
      "display_name": "Python 3",
      "language": "python",
      "name": "python3"
    }
  },
  "nbformat": 4,
  "nbformat_minor": 5
}